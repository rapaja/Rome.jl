{
 "cells": [
  {
   "cell_type": "code",
   "execution_count": 1,
   "id": "4b9611f4",
   "metadata": {},
   "outputs": [],
   "source": [
    "using BenchmarkTools"
   ]
  },
  {
   "cell_type": "code",
   "execution_count": 2,
   "id": "29c8054e",
   "metadata": {},
   "outputs": [
    {
     "name": "stderr",
     "output_type": "stream",
     "text": [
      "┌ Info: Precompiling Romeo [fded2ed3-f965-46cb-aa73-cb47ce47d3c4]\n",
      "└ @ Base loading.jl:1342\n"
     ]
    }
   ],
   "source": [
    "import Romeo"
   ]
  },
  {
   "cell_type": "code",
   "execution_count": 5,
   "id": "7df334fb",
   "metadata": {},
   "outputs": [],
   "source": [
    "# types = [Int32, Int64, Float32, Float64, ComplexF32, ComplexF64];\n",
    "types = [Int32, Int64];"
   ]
  },
  {
   "cell_type": "code",
   "execution_count": 6,
   "id": "eeed42e0",
   "metadata": {},
   "outputs": [
    {
     "name": "stderr",
     "output_type": "stream",
     "text": [
      "┌ Info: Processing type Int32\n",
      "└ @ Main In[6]:4\n"
     ]
    },
    {
     "ename": "LoadError",
     "evalue": "UndefVarError: g not defined",
     "output_type": "error",
     "traceback": [
      "UndefVarError: g not defined",
      "",
      "Stacktrace:",
      "  [1] var\"##core#258\"()",
      "    @ Main C:\\Users\\repmi\\.julia\\packages\\BenchmarkTools\\uq9zP\\src\\execution.jl:479",
      "  [2] var\"##sample#259\"(__params::BenchmarkTools.Parameters)",
      "    @ Main C:\\Users\\repmi\\.julia\\packages\\BenchmarkTools\\uq9zP\\src\\execution.jl:485",
      "  [3] _run(b::BenchmarkTools.Benchmark, p::BenchmarkTools.Parameters; verbose::Bool, pad::String, kwargs::Base.Iterators.Pairs{Symbol, Integer, NTuple{4, Symbol}, NamedTuple{(:samples, :evals, :gctrial, :gcsample), Tuple{Int64, Int64, Bool, Bool}}})",
      "    @ BenchmarkTools C:\\Users\\repmi\\.julia\\packages\\BenchmarkTools\\uq9zP\\src\\execution.jl:98",
      "  [4] #invokelatest#2",
      "    @ .\\essentials.jl:710 [inlined]",
      "  [5] #run_result#45",
      "    @ C:\\Users\\repmi\\.julia\\packages\\BenchmarkTools\\uq9zP\\src\\execution.jl:33 [inlined]",
      "  [6] run(b::BenchmarkTools.Benchmark, p::BenchmarkTools.Parameters; progressid::Nothing, nleaves::Float64, ndone::Float64, kwargs::Base.Iterators.Pairs{Symbol, Integer, NTuple{5, Symbol}, NamedTuple{(:verbose, :samples, :evals, :gctrial, :gcsample), Tuple{Bool, Int64, Int64, Bool, Bool}}})",
      "    @ BenchmarkTools C:\\Users\\repmi\\.julia\\packages\\BenchmarkTools\\uq9zP\\src\\execution.jl:116",
      "  [7] #warmup#54",
      "    @ C:\\Users\\repmi\\.julia\\packages\\BenchmarkTools\\uq9zP\\src\\execution.jl:168 [inlined]",
      "  [8] warmup(item::BenchmarkTools.Benchmark)",
      "    @ BenchmarkTools C:\\Users\\repmi\\.julia\\packages\\BenchmarkTools\\uq9zP\\src\\execution.jl:168",
      "  [9] macro expansion",
      "    @ C:\\Users\\repmi\\.julia\\packages\\BenchmarkTools\\uq9zP\\src\\execution.jl:387 [inlined]",
      " [10] top-level scope",
      "    @ In[6]:7",
      " [11] eval",
      "    @ .\\boot.jl:360 [inlined]",
      " [12] include_string(mapexpr::typeof(REPL.softscope), mod::Module, code::String, filename::String)",
      "    @ Base .\\loading.jl:1116"
     ]
    }
   ],
   "source": [
    "results = Dict()\n",
    "N = 1000\n",
    "for T in types\n",
    "    @info \"Processing type $T\"\n",
    "    g = ones(T, N)\n",
    "    u = ones(T, N)\n",
    "    r = @btime Romeo.Operators.convolve(g, u)\n",
    "    results[T] = r\n",
    "end"
   ]
  },
  {
   "cell_type": "code",
   "execution_count": null,
   "id": "e44c7f23",
   "metadata": {},
   "outputs": [],
   "source": []
  }
 ],
 "metadata": {
  "kernelspec": {
   "display_name": "Julia 1.6.2",
   "language": "julia",
   "name": "julia-1.6"
  },
  "language_info": {
   "file_extension": ".jl",
   "mimetype": "application/julia",
   "name": "julia",
   "version": "1.6.2"
  }
 },
 "nbformat": 4,
 "nbformat_minor": 5
}
