{
 "cells": [
  {
   "cell_type": "markdown",
   "id": "d403922f",
   "metadata": {},
   "source": [
    "http://web.mit.edu/julia_v0.6.2/julia/share/doc/julia/html/en/manual/performance-tips.html\n",
    "\n",
    "https://www.cs.purdue.edu/homes/hnassar/JPUG/performance.html\n",
    "\n",
    "https://discourse.julialang.org/t/when-shouldnt-we-use-simd/18276/2"
   ]
  },
  {
   "cell_type": "code",
   "execution_count": 1,
   "id": "ed225bbe",
   "metadata": {},
   "outputs": [],
   "source": [
    "using BenchmarkTools"
   ]
  },
  {
   "cell_type": "code",
   "execution_count": 2,
   "id": "f1dee2fa",
   "metadata": {},
   "outputs": [
    {
     "data": {
      "text/plain": [
       "convolve_simple (generic function with 1 method)"
      ]
     },
     "execution_count": 2,
     "metadata": {},
     "output_type": "execute_result"
    }
   ],
   "source": [
    "function convolve_simple(g::Vector{T}, u::Vector{T})::Vector{T} where T <: Number\n",
    "    y = similar(u)\n",
    "    for t = 1:length(u)\n",
    "        val = zero(y[t])\n",
    "        for τ = 1:t\n",
    "            val += g[t - τ + 1] * u[τ]\n",
    "        end # for\n",
    "        y[t] = val\n",
    "    end # for\n",
    "    return y\n",
    "end"
   ]
  },
  {
   "cell_type": "code",
   "execution_count": 8,
   "id": "521b07e8",
   "metadata": {},
   "outputs": [
    {
     "data": {
      "text/plain": [
       "convolve_inbounds (generic function with 1 method)"
      ]
     },
     "execution_count": 8,
     "metadata": {},
     "output_type": "execute_result"
    }
   ],
   "source": [
    "function convolve_inbounds(g::Vector{T}, u::Vector{T})::Vector{T} where T <: Number\n",
    "    y = similar(u)\n",
    "    @inbounds for t = 1:length(u)\n",
    "        val = zero(y[t])\n",
    "        for τ = 1:t\n",
    "            val += g[t - τ + 1] * u[τ]\n",
    "        end # for\n",
    "        y[t] = val\n",
    "    end # for\n",
    "    return y\n",
    "end"
   ]
  },
  {
   "cell_type": "code",
   "execution_count": 20,
   "id": "bd77b4ea",
   "metadata": {},
   "outputs": [
    {
     "data": {
      "text/plain": [
       "convolve_simd (generic function with 1 method)"
      ]
     },
     "execution_count": 20,
     "metadata": {},
     "output_type": "execute_result"
    }
   ],
   "source": [
    "function convolve_simd(g::Vector{T}, u::Vector{T})::Vector{T} where T <: Number\n",
    "    y = similar(u)\n",
    "    @inbounds @simd for t = 1:length(u)\n",
    "        val = zero(y[t])\n",
    "        @simd for τ = 1:t\n",
    "            val += g[t - τ + 1] * u[τ]\n",
    "        end # for\n",
    "        y[t] = val\n",
    "    end # for\n",
    "    return y\n",
    "end"
   ]
  },
  {
   "cell_type": "code",
   "execution_count": 28,
   "id": "2f79926b",
   "metadata": {},
   "outputs": [
    {
     "data": {
      "text/plain": [
       "convolve_fastmath (generic function with 1 method)"
      ]
     },
     "execution_count": 28,
     "metadata": {},
     "output_type": "execute_result"
    }
   ],
   "source": [
    "function convolve_fastmath(g::Vector{T}, u::Vector{T})::Vector{T} where T <: Number\n",
    "    y = similar(u)\n",
    "    @fastmath @inbounds @simd for t = 1:length(u)\n",
    "        val = zero(y[t])\n",
    "        @simd for τ = 1:t\n",
    "            val += g[t - τ + 1] * u[τ]\n",
    "        end # for\n",
    "        y[t] = val\n",
    "    end # for\n",
    "    return y\n",
    "end"
   ]
  },
  {
   "cell_type": "code",
   "execution_count": 29,
   "id": "e23bac37",
   "metadata": {},
   "outputs": [
    {
     "data": {
      "text/plain": [
       "1000"
      ]
     },
     "execution_count": 29,
     "metadata": {},
     "output_type": "execute_result"
    }
   ],
   "source": [
    "N = 1000"
   ]
  },
  {
   "cell_type": "code",
   "execution_count": 38,
   "id": "3d4f69f0",
   "metadata": {},
   "outputs": [],
   "source": [
    "g = rand(Float64, N);\n",
    "u = rand(Float64, N);"
   ]
  },
  {
   "cell_type": "code",
   "execution_count": 31,
   "id": "040a6161",
   "metadata": {},
   "outputs": [
    {
     "name": "stdout",
     "output_type": "stream",
     "text": [
      "  338.700 μs (1 allocation: 7.94 KiB)\n"
     ]
    }
   ],
   "source": [
    "@btime convolve_simple(g, u);"
   ]
  },
  {
   "cell_type": "code",
   "execution_count": 32,
   "id": "6536e3d1",
   "metadata": {},
   "outputs": [
    {
     "name": "stdout",
     "output_type": "stream",
     "text": [
      "  336.300 μs (1 allocation: 7.94 KiB)\n"
     ]
    }
   ],
   "source": [
    "@btime convolve_inbounds(g, u);"
   ]
  },
  {
   "cell_type": "code",
   "execution_count": 40,
   "id": "7dd39e0a",
   "metadata": {},
   "outputs": [
    {
     "name": "stdout",
     "output_type": "stream",
     "text": [
      "  67.100 μs (1 allocation: 7.94 KiB)\n"
     ]
    }
   ],
   "source": [
    "@btime convolve_simd(g, u);"
   ]
  },
  {
   "cell_type": "code",
   "execution_count": 39,
   "id": "dbc0726b",
   "metadata": {},
   "outputs": [
    {
     "name": "stdout",
     "output_type": "stream",
     "text": [
      "  68.300 μs (1 allocation: 7.94 KiB)\n"
     ]
    }
   ],
   "source": [
    "@btime convolve_fastmath(g, u);"
   ]
  },
  {
   "cell_type": "code",
   "execution_count": null,
   "id": "a2674634",
   "metadata": {},
   "outputs": [],
   "source": []
  }
 ],
 "metadata": {
  "kernelspec": {
   "display_name": "Julia 1.6.2",
   "language": "julia",
   "name": "julia-1.6"
  },
  "language_info": {
   "file_extension": ".jl",
   "mimetype": "application/julia",
   "name": "julia",
   "version": "1.6.2"
  }
 },
 "nbformat": 4,
 "nbformat_minor": 5
}
