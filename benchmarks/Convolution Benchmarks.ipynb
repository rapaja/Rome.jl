{
 "cells": [
  {
   "cell_type": "code",
   "execution_count": 1,
   "id": "244d2498",
   "metadata": {},
   "outputs": [],
   "source": [
    "using BenchmarkTools\n",
    "using ProgressBars"
   ]
  },
  {
   "cell_type": "code",
   "execution_count": 2,
   "id": "0199c447",
   "metadata": {},
   "outputs": [],
   "source": [
    "import Romeo"
   ]
  },
  {
   "cell_type": "code",
   "execution_count": 3,
   "id": "96322f61",
   "metadata": {},
   "outputs": [],
   "source": [
    "types = [Int32, Int64, Float32, Float64, ComplexF32, ComplexF64];"
   ]
  },
  {
   "cell_type": "code",
   "execution_count": 4,
   "id": "dacebb9c",
   "metadata": {},
   "outputs": [
    {
     "name": "stderr",
     "output_type": "stream",
     "text": [
      "0.0%┣                                                ┫ 0/6 [00:00<00:00, -0s/it]\n",
      "16.7%┣███████▏                                   ┫ 1/6 [00:07<Inf:Inf, InfGs/it]\n",
      "33.3%┣███████████████▊                               ┫ 2/6 [00:14<00:55, 14s/it]\n",
      "50.0%┣███████████████████████▌                       ┫ 3/6 [00:20<00:30, 10s/it]\n",
      "66.7%┣████████████████████████████████                ┫ 4/6 [00:26<00:17, 9s/it]\n",
      "83.3%┣████████████████████████████████████████        ┫ 5/6 [00:33<00:08, 8s/it]\n",
      "100.0%┣███████████████████████████████████████████████┫ 6/6 [00:41<00:00, 8s/it]\n",
      "100.0%┣███████████████████████████████████████████████┫ 6/6 [00:41<00:00, 8s/it]\n"
     ]
    }
   ],
   "source": [
    "results = Dict()\n",
    "N = 1000\n",
    "g = ones(N)\n",
    "u = ones(N)\n",
    "for T in ProgressBar(types)\n",
    "    g = ones(T, N)\n",
    "    u = ones(T, N)\n",
    "    r = @benchmark Romeo.Operators.convolve(g, u)\n",
    "    results[T] = r\n",
    "end"
   ]
  },
  {
   "cell_type": "code",
   "execution_count": 5,
   "id": "711b2a13",
   "metadata": {},
   "outputs": [
    {
     "data": {
      "text/plain": [
       "Dict{Any, Any} with 6 entries:\n",
       "  Float64    => Trial(67.900 μs)\n",
       "  Int64      => Trial(135.800 μs)\n",
       "  ComplexF64 => Trial(211.100 μs)\n",
       "  ComplexF32 => Trial(144.400 μs)\n",
       "  Int32      => Trial(35.200 μs)\n",
       "  Float32    => Trial(40.200 μs)"
      ]
     },
     "execution_count": 5,
     "metadata": {},
     "output_type": "execute_result"
    }
   ],
   "source": [
    "results"
   ]
  },
  {
   "cell_type": "code",
   "execution_count": null,
   "id": "dcdf4315",
   "metadata": {},
   "outputs": [],
   "source": []
  }
 ],
 "metadata": {
  "kernelspec": {
   "display_name": "Julia 1.6.2",
   "language": "julia",
   "name": "julia-1.6"
  },
  "language_info": {
   "file_extension": ".jl",
   "mimetype": "application/julia",
   "name": "julia",
   "version": "1.6.2"
  }
 },
 "nbformat": 4,
 "nbformat_minor": 5
}
