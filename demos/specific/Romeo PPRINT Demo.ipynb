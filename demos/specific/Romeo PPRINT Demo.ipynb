{
 "cells": [
  {
   "cell_type": "markdown",
   "metadata": {},
   "source": [
    "# `Romeo` `PPRINT` Demo"
   ]
  },
  {
   "cell_type": "markdown",
   "metadata": {},
   "source": [
    "This is a short demo illustrating pretty print (`pprint`) functionality in `Romeo`.\n",
    "The demo is meant primarily for testing purposes, since it allows for an easy assessment of the quality of the human-readable representations of the transfer functions in Romeo."
   ]
  },
  {
   "cell_type": "code",
   "execution_count": 7,
   "metadata": {},
   "outputs": [],
   "source": [
    "using Revise"
   ]
  },
  {
   "cell_type": "code",
   "execution_count": 8,
   "metadata": {},
   "outputs": [],
   "source": [
    "using Romeo.LTI"
   ]
  },
  {
   "cell_type": "code",
   "execution_count": 9,
   "metadata": {},
   "outputs": [
    {
     "data": {
      "text/plain": [
       "Diff{Int64}(1)"
      ]
     },
     "metadata": {},
     "output_type": "display_data"
    }
   ],
   "source": [
    "s = Diff(1)"
   ]
  },
  {
   "cell_type": "code",
   "execution_count": 12,
   "metadata": {},
   "outputs": [
    {
     "name": "stdout",
     "output_type": "stream",
     "text": [
      "s\n",
      "(s + 1)^0.75\n",
      "s^2 + 3 * (s) + 4 * (1)\n"
     ]
    }
   ],
   "source": [
    "@pprint s\n",
    "@pprint (s+1)^0.75\n",
    "@pprint s^2+3*s+4"
   ]
  },
  {
   "cell_type": "code",
   "execution_count": 13,
   "metadata": {},
   "outputs": [
    {
     "name": "stdout",
     "output_type": "stream",
     "text": [
      "((s + 1)^0.75) * ((s + 2 * (1))^2)\n"
     ]
    }
   ],
   "source": [
    "@pprint (s+1)^0.75*(s+2)^2"
   ]
  },
  {
   "cell_type": "code",
   "execution_count": 14,
   "metadata": {},
   "outputs": [
    {
     "name": "stdout",
     "output_type": "stream",
     "text": [
      "(s + 1) / (s + 2 * (1))\n",
      "(((s + 2 * (1))^0.15) / (s)) / (s + 1)\n"
     ]
    }
   ],
   "source": [
    "@pprint (s+1)/(s+2)\n",
    "@pprint (s+2)^0.15 / s / (s+1)"
   ]
  }
 ],
 "metadata": {
  "kernelspec": {
   "display_name": "Julia 1.6.2",
   "language": "julia",
   "name": "julia-1.6"
  },
  "language_info": {
   "file_extension": ".jl",
   "mimetype": "application/julia",
   "name": "julia",
   "version": "1.6.2"
  },
  "orig_nbformat": 4
 },
 "nbformat": 4,
 "nbformat_minor": 2
}
